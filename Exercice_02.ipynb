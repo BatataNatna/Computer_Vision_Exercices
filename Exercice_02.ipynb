{
 "cells": [
  {
   "cell_type": "markdown",
   "metadata": {},
   "source": [
    "# Exercice 2"
   ]
  },
  {
   "cell_type": "markdown",
   "metadata": {},
   "source": [
    "## Bibliothèques"
   ]
  },
  {
   "cell_type": "code",
   "execution_count": 2,
   "metadata": {},
   "outputs": [],
   "source": [
    "from PIL import Image"
   ]
  },
  {
   "cell_type": "code",
   "execution_count": 17,
   "metadata": {},
   "outputs": [],
   "source": [
    "# Créer une image de taille 900x900 avec un fond noir (color=0,0,0)\n",
    "image = Image.new(\"RGB\", (900, 900), color=(0, 0, 0))\n"
   ]
  },
  {
   "cell_type": "code",
   "execution_count": 18,
   "metadata": {},
   "outputs": [],
   "source": [
    "\n",
    "# Nous pouvons diviser le drapeau en bandes de tailles egales des trois couleurs \n",
    "largeur_bande = 900 // 3\n"
   ]
  },
  {
   "cell_type": "code",
   "execution_count": 19,
   "metadata": {},
   "outputs": [],
   "source": [
    "# Partie bleue\n",
    "bande_bleue = (0, 0, largeur_bande, 900)\n",
    "image.paste((0, 0, 255), bande_bleue)"
   ]
  },
  {
   "cell_type": "code",
   "execution_count": 20,
   "metadata": {},
   "outputs": [],
   "source": [
    "# Partie blanche\n",
    "bande_blanche = (largeur_bande , 0, 2 * largeur_bande , 900)\n",
    "image.paste((255, 255, 255), bande_blanche)\n"
   ]
  },
  {
   "cell_type": "code",
   "execution_count": 21,
   "metadata": {},
   "outputs": [],
   "source": [
    "# Partie rouge\n",
    "bande_rouge = (2 * largeur_bande , 0, 900, 900)\n",
    "image.paste((255, 0, 0), bande_rouge)"
   ]
  },
  {
   "cell_type": "markdown",
   "metadata": {},
   "source": [
    "**Cette commande permet d'enregistrer l'image sous format jpg**"
   ]
  },
  {
   "cell_type": "code",
   "execution_count": 22,
   "metadata": {},
   "outputs": [],
   "source": [
    "# Enregistrer l'image\n",
    "image.save(\"drapeau_francais.jpg\")\n"
   ]
  }
 ],
 "metadata": {
  "kernelspec": {
   "display_name": "base",
   "language": "python",
   "name": "python3"
  },
  "language_info": {
   "codemirror_mode": {
    "name": "ipython",
    "version": 3
   },
   "file_extension": ".py",
   "mimetype": "text/x-python",
   "name": "python",
   "nbconvert_exporter": "python",
   "pygments_lexer": "ipython3",
   "version": "3.11.4"
  }
 },
 "nbformat": 4,
 "nbformat_minor": 2
}
